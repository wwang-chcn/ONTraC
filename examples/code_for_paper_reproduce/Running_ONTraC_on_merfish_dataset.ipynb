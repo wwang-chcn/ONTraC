{
 "cells": [
  {
   "cell_type": "markdown",
   "id": "43127446-0f5a-4e04-b426-4903e3a176f1",
   "metadata": {},
   "source": [
    "# Running ONTraC on MERFISH dataset"
   ]
  },
  {
   "cell_type": "markdown",
   "id": "0ab685aa-284a-4414-85fb-356a107067cd",
   "metadata": {},
   "source": [
    "## Notes"
   ]
  },
  {
   "cell_type": "markdown",
   "id": "8d909fca-2308-4986-8d69-08af705ab9ee",
   "metadata": {},
   "source": [
    "This notebook will show you the process of running ONTraC on simulation data.\n",
    "\n",
    "We assume that you have installed ONTraC according to the [installation tutorial](../../tutorials/installation.md) and open this notebook using installed Python kernel (Python 3.11 (ONTraC))."
   ]
  },
  {
   "cell_type": "markdown",
   "id": "0da9bb25-3597-4231-805b-639153f5c599",
   "metadata": {},
   "source": [
    "## Running ONTraC on MERFISH data"
   ]
  },
  {
   "cell_type": "markdown",
   "id": "d864f2cc-f4fa-4ea3-b874-54460daeb838",
   "metadata": {},
   "source": [
    "ONTraC will run on CPU if CUDA is not available."
   ]
  },
  {
   "cell_type": "markdown",
   "id": "caca32e7",
   "metadata": {},
   "source": [
    "Download `merfish_dataset_meta_input.csv` from [Zenodo](https://zenodo.org/records/XXXXXX)"
   ]
  },
  {
   "cell_type": "code",
   "execution_count": null,
   "id": "3dc4b635-ae81-48c7-85d2-e7310c11e0a9",
   "metadata": {},
   "outputs": [],
   "source": [
    "%%bash\n",
    "\n",
    "source ~/.bash_profile\n",
    "conda activate ONTraC\n",
    "ONTraC --meta-input original_data.csv --NN-dir merfish_NN --GNN-dir merfish_GNN --NT-dir merfish_NT --device cuda --epochs 1000 --batch-size 10 -s 42 --lr 0.03 --hidden-feats 4 -k 6 --modularity-loss-weight 0.3 --regularization-loss-weight 0.1 --purity-loss-weight 300 --beta 0.03 > log/merfish.log\n"
   ]
  },
  {
   "cell_type": "markdown",
   "id": "1b345363-b43c-4961-a915-19d68ebdffdd",
   "metadata": {},
   "source": [
    "## Results visualization"
   ]
  },
  {
   "cell_type": "markdown",
   "id": "a1ad0e37-3211-4f0c-9f4b-faf34b0ec024",
   "metadata": {},
   "source": [
    "We only show two simple examples here, please see [post analysis tutorial](../../tutorials/post_analysis.md) for details and more figures."
   ]
  },
  {
   "cell_type": "markdown",
   "id": "79c8cfc0-e02b-4265-ace4-af0d54c74df8",
   "metadata": {},
   "source": [
    "### Plotting prepare"
   ]
  },
  {
   "cell_type": "code",
   "execution_count": null,
   "id": "2d327357-7a75-458b-a587-f7bbeca1e23f",
   "metadata": {},
   "outputs": [],
   "source": [
    "import numpy as np\n",
    "import pandas as pd\n",
    "\n",
    "import matplotlib as mpl\n",
    "\n",
    "mpl.rcParams['pdf.fonttype'] = 42\n",
    "mpl.rcParams['ps.fonttype'] = 42\n",
    "mpl.rcParams['font.family'] = 'Arial'\n",
    "import matplotlib.pyplot as plt\n",
    "import seaborn as sns\n",
    "\n",
    "from ONTraC.analysis.data import AnaData"
   ]
  },
  {
   "cell_type": "markdown",
   "id": "0d68a2de-c778-4226-9b1b-c13269cca46e",
   "metadata": {},
   "source": [
    "### Loading ONTraC results"
   ]
  },
  {
   "cell_type": "code",
   "execution_count": null,
   "id": "59fd5f38-9127-48dc-b03b-db3c6c8bc063",
   "metadata": {
    "execution": {
     "iopub.execute_input": "2024-04-22T19:36:01.273703Z",
     "iopub.status.busy": "2024-04-22T19:36:01.272168Z",
     "iopub.status.idle": "2024-04-22T19:36:03.055129Z",
     "shell.execute_reply": "2024-04-22T19:36:03.054778Z",
     "shell.execute_reply.started": "2024-04-22T19:36:01.273627Z"
    }
   },
   "outputs": [],
   "source": [
    "from ONTraC.analysis.data import AnaData\n",
    "from optparse import Values\n",
    "\n",
    "options = Values()\n",
    "options.NN_dir = 'simulation_NN'\n",
    "options.GNN_dir = 'simulation_GNN'\n",
    "options.NT_dir = 'simulation_NT'\n",
    "options.log = 'simulation.log'\n",
    "options.reverse = True  # Set it to False if you don't want reverse NT score\n",
    "options.output = None  # We save the output figure by our self here\n",
    "ana_data = AnaData(options)"
   ]
  },
  {
   "cell_type": "markdown",
   "id": "4af23e62",
   "metadata": {},
   "source": [
    "# Plotting prepare"
   ]
  },
  {
   "cell_type": "code",
   "execution_count": null,
   "id": "dd9b7af5",
   "metadata": {},
   "outputs": [],
   "source": [
    "import numpy as np\n",
    "import pandas as pd\n",
    "\n",
    "import matplotlib as mpl\n",
    "\n",
    "mpl.rcParams['pdf.fonttype'] = 42\n",
    "mpl.rcParams['ps.fonttype'] = 42\n",
    "mpl.rcParams['font.family'] = 'Arial'\n",
    "import matplotlib.pyplot as plt\n",
    "import seaborn as sns"
   ]
  },
  {
   "cell_type": "markdown",
   "id": "615096ae-d046-4170-a4fd-44630685581c",
   "metadata": {},
   "source": [
    "### Spatial cell type distribution"
   ]
  },
  {
   "cell_type": "code",
   "execution_count": null,
   "id": "6230d02d-375d-4775-ba6d-65180322fcf0",
   "metadata": {},
   "outputs": [],
   "source": [
    "cell_types = ana_data.cell_type_codes['Cell_Type'].tolist()\n",
    "selected_cell_types = [\"VLMC\", 'L2/3 IT', 'L4/5 IT', 'L5 IT',\"L5 ET\", \"L5/6 NP\" , 'L6 IT',\"L6 CT\",\"L6 IT Car3\"]\n",
    "\n",
    "rainbow_cmap = mpl.colormaps['gist_rainbow']\n",
    "\n",
    "my_pal = {\"VLMC\": rainbow_cmap(0)}\n",
    "my_pal.update({cell_type: rainbow_cmap( 0.3 + 0.7 * (i - 1) / (len(selected_cell_types) - 1)) for i, cell_type in enumerate(selected_cell_types[1:])})\n",
    "my_pal.update({cell_type: 'gray' for cell_type in cell_types if cell_type not in selected_cell_types})\n",
    "\n",
    "samples = ['mouse1_slice91', 'mouse1_slice131']"
   ]
  },
  {
   "cell_type": "code",
   "execution_count": null,
   "id": "5580aee8",
   "metadata": {},
   "outputs": [],
   "source": [
    "# we only show two samples here\n",
    "\n",
    "seleted_samples = ['mouse1_slice91', 'mouse1_slice131']\n",
    "\n",
    "data_df = ana_data.meta_data_df[[x in seleted_samples for x in ana_data.meta_data_df['Sample']]]"
   ]
  },
  {
   "cell_type": "code",
   "execution_count": null,
   "id": "085f3b79-4af4-4a6b-bb01-c5c1aa3a9e90",
   "metadata": {},
   "outputs": [],
   "source": [
    "with sns.axes_style('white', rc={\n",
    "        'xtick.bottom': True,\n",
    "        'ytick.left': True\n",
    "}), sns.plotting_context('paper',\n",
    "                         rc={\n",
    "                             'axes.titlesize': 8,\n",
    "                             'axes.labelsize': 8,\n",
    "                             'xtick.labelsize': 6,\n",
    "                             'ytick.labelsize': 6,\n",
    "                             'legend.fontsize': 6\n",
    "                         }):\n",
    "    N = len(seleted_samples)\n",
    "    fig, axes = plt.subplots(1, N, figsize = (4 * N, 4))\n",
    "    for i, sample in enumerate(seleted_samples):\n",
    "        sample_df = data_df.loc[data_df['Sample'] == sample]\n",
    "        ax = axes[i] if N > 1 else axes\n",
    "        sns.scatterplot(data = sample_df,\n",
    "                        x = 'x',\n",
    "                        y = 'y',\n",
    "                        hue = 'Cell_Type',\n",
    "                        palette = my_pal,\n",
    "                        hue_order = selected_cell_types + [x for x in cell_types if x not in selected_cell_types],\n",
    "                        edgecolor=None,\n",
    "                        s = 4,\n",
    "                        ax=ax)\n",
    "        ax.set_xticks([])\n",
    "        ax.set_yticks([])\n",
    "        ax.set_title(f\"{sample}\")\n",
    "        ax.legend(loc='upper left', bbox_to_anchor=(0,-0.2), ncol=4)\n",
    "\n",
    "\n",
    "    fig.tight_layout()\n",
    "    fig.savefig('figures/spatial_cell_type.png', dpi=300)"
   ]
  },
  {
   "cell_type": "markdown",
   "id": "86799712-d5ab-4702-8d0d-7d3dfb657d0c",
   "metadata": {},
   "source": [
    "![spatial cell type distribution](img/merfish_spatial_cell_type.png)"
   ]
  },
  {
   "cell_type": "markdown",
   "id": "c4b05037-147a-4c27-ac1e-9943ec2c363a",
   "metadata": {},
   "source": [
    "### Cell-level NT score spatial distribution"
   ]
  },
  {
   "cell_type": "code",
   "execution_count": null,
   "id": "0a5da6d2-6044-4269-b6dc-2f287bb1cd0e",
   "metadata": {},
   "outputs": [],
   "source": [
    "N = len(seleted_samples)\n",
    "fig, axes = plt.subplots(1, N, figsize = (3.5 * N, 3))\n",
    "for i, sample in enumerate(seleted_samples):\n",
    "    sample_df = data_df.loc[data_df['Sample'] == sample]\n",
    "    sample_df = sample_df.join(ana_data.NT_score['Cell_NTScore'])\n",
    "    ax = axes[i] if N > 1 else axes\n",
    "    scatter = ax.scatter(sample_df['x'], sample_df['y'], c=1 - sample_df['Cell_NTScore'], cmap='rainbow', vmin=0, vmax=1, s=1) # substitute with following line if you don't need change the direction of NT score\n",
    "    # scatter = ax.scatter(sample_df['x'], sample_df['y'], c=sample_df['Cell_NTScore'], cmap='rainbow', vmin=0, vmax=1, s=1)\n",
    "    ax.set_xticks([])\n",
    "    ax.set_yticks([])\n",
    "    plt.colorbar(scatter)\n",
    "    ax.set_title(f\"{sample} cell-level NT score\")\n",
    "\n",
    "\n",
    "fig.tight_layout()\n",
    "fig.savefig('figures/cell_level_NT_score.png', dpi=300)"
   ]
  },
  {
   "cell_type": "markdown",
   "id": "af066d33-a972-4685-8c6f-dff57dd9f00b",
   "metadata": {
    "execution": {
     "iopub.execute_input": "2024-04-22T19:58:52.942289Z",
     "iopub.status.busy": "2024-04-22T19:58:52.936416Z",
     "iopub.status.idle": "2024-04-22T19:58:53.088103Z",
     "shell.execute_reply": "2024-04-22T19:58:53.086719Z",
     "shell.execute_reply.started": "2024-04-22T19:58:52.942194Z"
    }
   },
   "source": [
    "![cell-level NT score](img/merfish_cell_level_NT_score.png)"
   ]
  },
  {
   "cell_type": "code",
   "execution_count": null,
   "id": "f05813b6-27a9-4921-be08-9a6c6f09bdb1",
   "metadata": {},
   "outputs": [],
   "source": []
  }
 ],
 "metadata": {
  "kernelspec": {
   "display_name": "Python 3.11 (ONTraC)",
   "language": "python",
   "name": "ontrac"
  },
  "language_info": {
   "codemirror_mode": {
    "name": "ipython",
    "version": 3
   },
   "file_extension": ".py",
   "mimetype": "text/x-python",
   "name": "python",
   "nbconvert_exporter": "python",
   "pygments_lexer": "ipython3",
   "version": "3.11.8"
  }
 },
 "nbformat": 4,
 "nbformat_minor": 5
}
