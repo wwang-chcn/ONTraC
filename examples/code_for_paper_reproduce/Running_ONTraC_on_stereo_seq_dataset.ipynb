{
 "cells": [
  {
   "cell_type": "markdown",
   "id": "07c428c5-441f-4562-9990-6a09e2d93c7a",
   "metadata": {},
   "source": [
    "# Running ONTraC on Stereo-seq dataset"
   ]
  },
  {
   "cell_type": "markdown",
   "id": "20b8fb9a-9f61-41ca-b116-ab5883f1c990",
   "metadata": {},
   "source": [
    "## Notes"
   ]
  },
  {
   "cell_type": "markdown",
   "id": "957d0b66-5f52-47a4-9097-2a9bb36dfafd",
   "metadata": {},
   "source": [
    "This notebook will show you the process of running ONTraC on stereo-seq data."
   ]
  },
  {
   "cell_type": "markdown",
   "id": "eb1af602",
   "metadata": {},
   "source": [
    "# ONTraC installation\n",
    "\n",
    "We assume that you have installed ONTraC based on following instructions and open this notebook using installed Python kernel (Python 3.11 (ONTraC))."
   ]
  },
  {
   "cell_type": "code",
   "execution_count": null,
   "id": "89d1e4ba",
   "metadata": {
    "vscode": {
     "languageId": "shellscript"
    }
   },
   "outputs": [],
   "source": [
    "conda create -n ONTraC python=3.11\n",
    "conda activate ONTraC\n",
    "pip install \"ONTraC[analysis]==1.*\"\n",
    "pip install ipykernel\n",
    "python -m ipykernel install --user --name ONTraC --display-name \"Python 3.11 (ONTraC)\""
   ]
  },
  {
   "cell_type": "markdown",
   "id": "6a0effb2-2cee-4f98-b519-8f70bdc03933",
   "metadata": {},
   "source": [
    "## Running ONTraC on Stereo-seq data"
   ]
  },
  {
   "cell_type": "markdown",
   "id": "598c7842-9eba-42a4-91e5-c15c9f33c836",
   "metadata": {},
   "source": [
    "ONTraC will run on CPU if CUDA is not available.\n"
   ]
  },
  {
   "cell_type": "markdown",
   "id": "36140acb",
   "metadata": {},
   "source": [
    "Download `stereo_seq_dataset_meta_input.csv` and precomputed results from [Zenodo](https://zenodo.org/records/XXXXXX)"
   ]
  },
  {
   "cell_type": "code",
   "execution_count": 1,
   "id": "6b8ddc6a-3936-4ed3-bc4f-c8d7b0b1711a",
   "metadata": {
    "execution": {
     "iopub.execute_input": "2024-04-22T20:27:02.320365Z",
     "iopub.status.busy": "2024-04-22T20:27:02.319852Z",
     "iopub.status.idle": "2024-04-22T20:27:19.325039Z",
     "shell.execute_reply": "2024-04-22T20:27:19.319815Z",
     "shell.execute_reply.started": "2024-04-22T20:27:02.320333Z"
    }
   },
   "outputs": [],
   "source": [
    "%%bash\n",
    "\n",
    "source ~/.bash_profile\n",
    "conda activate ONTraC\n",
    "ONTraC --meta-input stereo_seq_dataset_meta_input.csv --preprocessing-dir stereo_seq_preprocessing --GNN-dir stereo_seq_GNN --NTScore-dir stereo_seq_NTScore \\\n",
    "       --device cuda --epochs 1000 --batch-size 5 -s 42 --patience 100 --min-delta 0.001 --min-epochs 50 --lr 0.03 --hidden-feats 4 -k 6 \\\n",
    "       --modularity-loss-weight 1 --purity-loss-weight 30 --regularization-loss-weight 0.1 --beta 0.3 --equal-space 2>&1 | tee stereo_seq.log"
   ]
  },
  {
   "cell_type": "markdown",
   "id": "a9451eb0-37cd-4ef4-af0f-160ccb3f53fd",
   "metadata": {},
   "source": [
    "## Results visualization"
   ]
  },
  {
   "cell_type": "markdown",
   "id": "09954c28-40ee-47b2-aed6-84347db37be7",
   "metadata": {},
   "source": [
    "We only show two simple examples here, please see [post analysis tutorial](../../tutorials/post_analysis.md) for details and more figures."
   ]
  },
  {
   "cell_type": "markdown",
   "id": "d11daa9c",
   "metadata": {},
   "source": [
    "### Plotting prepare"
   ]
  },
  {
   "cell_type": "code",
   "execution_count": null,
   "id": "8adf5a0e",
   "metadata": {},
   "outputs": [],
   "source": [
    "import numpy as np\n",
    "import pandas as pd\n",
    "\n",
    "import matplotlib as mpl\n",
    "\n",
    "mpl.rcParams['pdf.fonttype'] = 42\n",
    "mpl.rcParams['ps.fonttype'] = 42\n",
    "mpl.rcParams['font.family'] = 'Arial'\n",
    "import matplotlib.pyplot as plt\n",
    "import seaborn as sns\n",
    "\n",
    "from ONTraC.analysis.data import AnaData"
   ]
  },
  {
   "cell_type": "markdown",
   "id": "75d78c45-292e-4042-abba-da243136d944",
   "metadata": {},
   "source": [
    "### Loading ONTraC results"
   ]
  },
  {
   "cell_type": "code",
   "execution_count": 1,
   "id": "10ea8453-43c4-4d57-b81e-30adcb8dc81d",
   "metadata": {
    "execution": {
     "iopub.execute_input": "2024-04-22T19:36:01.273703Z",
     "iopub.status.busy": "2024-04-22T19:36:01.272168Z",
     "iopub.status.idle": "2024-04-22T19:36:03.055129Z",
     "shell.execute_reply": "2024-04-22T19:36:03.054778Z",
     "shell.execute_reply.started": "2024-04-22T19:36:01.273627Z"
    }
   },
   "outputs": [],
   "source": [
    "from optparse import Values\n",
    "\n",
    "options = Values()\n",
    "options.preprocessing_dir = 'train_backup/V2/V1_reproduce_stereo_seq_dataset/stereo_seq_preprocessing/'\n",
    "options.GNN_dir = 'train_backup/V2/V1_reproduce_stereo_seq_dataset/stereo_seq_GNN/'\n",
    "options.NTScore_dir = 'train_backup/V2/V1_reproduce_stereo_seq_dataset/stereo_seq_NTScore/'\n",
    "options.log = 'train_backup/V2/V1_reproduce_stereo_seq_dataset/stereo_seq.log'\n",
    "options.reverse = True  # Set it to False if you don't want reverse NT score\n",
    "options.embedding_adjust = False\n",
    "\n",
    "ana_data = AnaData(options)"
   ]
  },
  {
   "cell_type": "markdown",
   "id": "68bb6d53-fefa-48ca-aa30-1c49ff7cf79d",
   "metadata": {},
   "source": [
    "### Spatial cell type distribution"
   ]
  },
  {
   "cell_type": "code",
   "execution_count": null,
   "id": "46fb29dd-cf94-4161-a15d-f5dc96d360b1",
   "metadata": {},
   "outputs": [],
   "source": [
    "data_df = ana_data.meta_data\n",
    "samples = data_df['Sample'].unique()\n",
    "N = len(samples)\n",
    "fig, axes = plt.subplots(1, N, figsize = (4 * N, 3))\n",
    "for i, sample in enumerate(samples):\n",
    "    sample_df = data_df.loc[data_df['Sample'] == sample]\n",
    "    ax = axes[i] if N > 1 else axes\n",
    "    sns.scatterplot(data = sample_df,\n",
    "                x = 'x',\n",
    "                y = 'y',\n",
    "                hue = 'Cell_Type',\n",
    "                hue_order = ['RGC', 'GlioB', 'NeuB', 'GluNeuB', 'GluNeu', 'GABA', 'Ery', 'Endo', 'Fibro', 'Basal'],  # change based on your own dataset or remove this line\n",
    "                s = 8,\n",
    "                ax = ax)\n",
    "    # ax.set_aspect('equal', 'box')  # uncomment this line if you want set the x and y axis with same scaling\n",
    "    # ax.set_xticks([])  # uncomment this line if you don't want to show x coordinates\n",
    "    # ax.set_yticks([]) # uncomment this line if you don't want to show y coordinates\n",
    "    ax.set_title(f\"{sample}\")\n",
    "    ax.legend(loc='upper left', bbox_to_anchor=(1,1))\n",
    "\n",
    "\n",
    "fig.tight_layout()\n",
    "fig.savefig('stereo_seq_spatial_cell_type.png', dpi=150)"
   ]
  },
  {
   "cell_type": "markdown",
   "id": "b349027c-5950-4514-905a-c55fc8c632ea",
   "metadata": {},
   "source": [
    "![spatial cell type distribution](img/stereo_seq_spatial_cell_type.png)"
   ]
  },
  {
   "cell_type": "markdown",
   "id": "906aa59e-c84c-4cd0-ad7b-a19df3283e62",
   "metadata": {},
   "source": [
    "### Cell-level NT score spatial distribution"
   ]
  },
  {
   "cell_type": "code",
   "execution_count": null,
   "id": "72c7145f-7d82-4e5a-9431-6aa5b3883bd2",
   "metadata": {},
   "outputs": [],
   "source": [
    "samples = ana_data.NT_score['Sample'].unique().tolist()\n",
    "\n",
    "N = len(samples)\n",
    "fig, axes = plt.subplots(1, N, figsize=(3.5 * N, 3))\n",
    "for i, sample in enumerate(samples):\n",
    "    sample_df = ana_data.NT_score.loc[ana_data.NT_score['Sample'] == sample]\n",
    "    ax = axes[i] if N > 1 else axes\n",
    "    NT_score = sample_df['Cell_NTScore'] if not ana_data.options.reverse else 1 - sample_df['Cell_NTScore']\n",
    "    scatter = ax.scatter(sample_df['x'], sample_df['y'], c=NT_score, cmap='rainbow', vmin=0, vmax=1, s=1)\n",
    "    # ax.set_aspect('equal', 'box')  # uncomment this line if you want set the x and y axis with same scaling\n",
    "    # ax.set_xticks([])  # uncomment this line if you don't want to show x coordinates\n",
    "    # ax.set_yticks([]) # uncomment this line if you don't want to show y coordinates\n",
    "    plt.colorbar(scatter)\n",
    "    ax.set_title(f\"{sample} Cell-level NT Score\")\n",
    "\n",
    "fig.tight_layout()\n",
    "fig.savefig('stereo_seq_cell_level_NT_score.png', dpi=200)"
   ]
  },
  {
   "cell_type": "markdown",
   "id": "e3058604-f2a8-4714-8f06-8e0f82f0a99e",
   "metadata": {
    "execution": {
     "iopub.execute_input": "2024-04-22T19:58:52.942289Z",
     "iopub.status.busy": "2024-04-22T19:58:52.936416Z",
     "iopub.status.idle": "2024-04-22T19:58:53.088103Z",
     "shell.execute_reply": "2024-04-22T19:58:53.086719Z",
     "shell.execute_reply.started": "2024-04-22T19:58:52.942194Z"
    }
   },
   "source": [
    "![cell-level NT score](img/stereo_seq_cell_level_NT_score.png)"
   ]
  }
 ],
 "metadata": {
  "kernelspec": {
   "display_name": "Python 3.11 (ONTraC)",
   "language": "python",
   "name": "ontrac"
  },
  "language_info": {
   "codemirror_mode": {
    "name": "ipython",
    "version": 3
   },
   "file_extension": ".py",
   "mimetype": "text/x-python",
   "name": "python",
   "nbconvert_exporter": "python",
   "pygments_lexer": "ipython3",
   "version": "3.11.8"
  }
 },
 "nbformat": 4,
 "nbformat_minor": 5
}
