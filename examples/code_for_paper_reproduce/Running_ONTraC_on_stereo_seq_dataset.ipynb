{
 "cells": [
  {
   "cell_type": "markdown",
   "id": "07c428c5-441f-4562-9990-6a09e2d93c7a",
   "metadata": {},
   "source": [
    "# Running ONTraC on Stereo-seq dataset"
   ]
  },
  {
   "cell_type": "markdown",
   "id": "20b8fb9a-9f61-41ca-b116-ab5883f1c990",
   "metadata": {},
   "source": [
    "## Notes"
   ]
  },
  {
   "cell_type": "markdown",
   "id": "957d0b66-5f52-47a4-9097-2a9bb36dfafd",
   "metadata": {},
   "source": [
    "This notebook will show you the process of running ONTraC on stereo-seq data.\n",
    "\n",
    "We assume that you have installed ONTraC according to the [installation tutorial](../../tutorials/installation.md) and open this notebook using installed Python kernel (Python 3.11 (ONTraC))."
   ]
  },
  {
   "cell_type": "markdown",
   "id": "6a0effb2-2cee-4f98-b519-8f70bdc03933",
   "metadata": {},
   "source": [
    "## Running ONTraC on Stereo-seq data"
   ]
  },
  {
   "cell_type": "markdown",
   "id": "598c7842-9eba-42a4-91e5-c15c9f33c836",
   "metadata": {},
   "source": [
    "If your default shell is not Bash, please adjust this code.\n",
    "\n",
    "ONTraC will run on CPU if CUDA is not available.\n"
   ]
  },
  {
   "cell_type": "code",
   "execution_count": 1,
   "id": "6b8ddc6a-3936-4ed3-bc4f-c8d7b0b1711a",
   "metadata": {
    "execution": {
     "iopub.execute_input": "2024-04-22T20:27:02.320365Z",
     "iopub.status.busy": "2024-04-22T20:27:02.319852Z",
     "iopub.status.idle": "2024-04-22T20:27:19.325039Z",
     "shell.execute_reply": "2024-04-22T20:27:19.319815Z",
     "shell.execute_reply.started": "2024-04-22T20:27:02.320333Z"
    }
   },
   "outputs": [],
   "source": [
    "%%bash\n",
    "\n",
    "source ~/.bash_profile\n",
    "conda activate ONTraC\n",
    "ONTraC -d stereo_seq_dataset.csv --preprocessing-dir stereo_seq_preprocessing_dir --GNN-dir stereo_seq_GNN --NTScore-dir stereo_seq_NTScore \\\n",
    "       --device cuda --epochs 1000 --batch-size 5 -s 42 --patience 100 --min-delta 0.001 --min-epochs 50 --lr 0.03 --hidden-feats 4 -k 6 \\\n",
    "       --modularity-loss-weight 0.3 --regularization-loss-weight 0.1 --purity-loss-weight 300 --beta 0.03 2>&1 | tee log/merfish.log"
   ]
  },
  {
   "cell_type": "markdown",
   "id": "a9451eb0-37cd-4ef4-af0f-160ccb3f53fd",
   "metadata": {},
   "source": [
    "## Results visualization"
   ]
  },
  {
   "cell_type": "markdown",
   "id": "09954c28-40ee-47b2-aed6-84347db37be7",
   "metadata": {},
   "source": [
    "Please see [post analysis tutorial](../../tutorials/post_analysis.md) for details."
   ]
  },
  {
   "cell_type": "markdown",
   "id": "f127fd47-c2ee-4092-9a9c-46cb0cee5b11",
   "metadata": {},
   "source": [
    "### Install required packages"
   ]
  },
  {
   "cell_type": "markdown",
   "id": "7af99209-ecba-44db-9b94-a0dcfc080108",
   "metadata": {},
   "source": [
    "If you default sh is not bash, please adjust this code\n"
   ]
  },
  {
   "cell_type": "code",
   "execution_count": null,
   "id": "93e9b9ad-b3dd-40c3-ad90-4e2f9af517cd",
   "metadata": {},
   "outputs": [],
   "source": [
    "%%bash\n",
    "\n",
    "source ~/.bash_profile\n",
    "conda activate ONTraC\n",
    "\n",
    "pip install matplotlib seaborn"
   ]
  },
  {
   "cell_type": "markdown",
   "id": "75d78c45-292e-4042-abba-da243136d944",
   "metadata": {},
   "source": [
    "### Loading results"
   ]
  },
  {
   "cell_type": "code",
   "execution_count": 1,
   "id": "10ea8453-43c4-4d57-b81e-30adcb8dc81d",
   "metadata": {
    "execution": {
     "iopub.execute_input": "2024-04-22T19:36:01.273703Z",
     "iopub.status.busy": "2024-04-22T19:36:01.272168Z",
     "iopub.status.idle": "2024-04-22T19:36:03.055129Z",
     "shell.execute_reply": "2024-04-22T19:36:03.054778Z",
     "shell.execute_reply.started": "2024-04-22T19:36:01.273627Z"
    }
   },
   "outputs": [],
   "source": [
    "from optparse import Values\n",
    "from typing import List, Tuple\n",
    "\n",
    "import numpy as np\n",
    "import pandas as pd\n",
    "\n",
    "from ONTraC.utils import read_yaml_file, get_rel_params\n",
    "\n",
    "\n",
    "def load_data(options: Values) -> pd.DataFrame:\n",
    "    \"\"\"\n",
    "    load data after ONTraC processing\n",
    "    :param options, Values. dataset, preprocessing_dir and NTScore_dif needed.\n",
    "    :return data_df, pd.DataFrame\n",
    "    \"\"\"\n",
    "    data_df = pd.DataFrame()\n",
    "    params = read_yaml_file(f'{options.preprocessing_dir}/samples.yaml')\n",
    "    rel_params = get_rel_params(options, params)\n",
    "    cell_type_code_df = pd.read_csv(f'{options.preprocessing_dir}/cell_type_code.csv', index_col=0)\n",
    "    for sample in rel_params['Data']:\n",
    "        NTScore_df = pd.read_csv(f'{options.NTScore_dif}/{sample[\"Name\"]}_NTScore.csv.gz', index_col=0)\n",
    "        cell_type_composition_df = pd.read_csv(sample['Features'], header=None)\n",
    "        cell_type_composition_df.columns = cell_type_code_df.loc[np.arange(cell_type_composition_df.shape[1]), 'Cell_Type'].tolist()\n",
    "        sample_df = pd.concat([NTScore_df.reset_index(drop=True), cell_type_composition_df], axis=1)\n",
    "        sample_df.index = NTScore_df.index\n",
    "        sample_df['sample'] = [sample[\"Name\"]] * sample_df.shape[0]\n",
    "        data_df = pd.concat([data_df, sample_df])\n",
    "    \n",
    "    raw_df = pd.read_csv(options.dataset, index_col=0)\n",
    "    data_df = data_df.join(raw_df[['Cell_Type']])\n",
    "    return data_df\n",
    "\n"
   ]
  },
  {
   "cell_type": "code",
   "execution_count": null,
   "id": "4b73bb05-3069-431f-91c6-d35e849ac6b4",
   "metadata": {},
   "outputs": [],
   "source": [
    "options = Values()\n",
    "options.dataset = 'stereo_seq_dataset.csv'\n",
    "options.preprocessing_dir = 'stereo_seq_preprocessing_dir'\n",
    "options.NTScore_dif = 'stereo_seq_NTScore'\n",
    "\n",
    "data_df = load_data(options = options)\n",
    "samples = data_df['sample'].unique().tolist()\n",
    "cell_types = data_df['Cell_Type'].unique().tolist()"
   ]
  },
  {
   "cell_type": "markdown",
   "id": "31a7d12f-d757-4f20-b199-9a7e7da362d0",
   "metadata": {},
   "source": [
    "### Plotting prepare"
   ]
  },
  {
   "cell_type": "code",
   "execution_count": 2,
   "id": "51de7775-9a05-4be5-8eaf-4ccd0d693b97",
   "metadata": {
    "execution": {
     "iopub.execute_input": "2024-04-22T19:36:56.942346Z",
     "iopub.status.busy": "2024-04-22T19:36:56.941852Z",
     "iopub.status.idle": "2024-04-22T19:36:58.582968Z",
     "shell.execute_reply": "2024-04-22T19:36:58.582549Z",
     "shell.execute_reply.started": "2024-04-22T19:36:56.942316Z"
    }
   },
   "outputs": [],
   "source": [
    "import matplotlib as mpl\n",
    "import matplotlib.pyplot as plt\n",
    "mpl.rcParams['pdf.fonttype'] = 42\n",
    "mpl.rcParams['ps.fonttype'] = 42\n",
    "mpl.rcParams['font.sans-serif'] = 'Arial'\n",
    "import seaborn as sns"
   ]
  },
  {
   "cell_type": "markdown",
   "id": "68bb6d53-fefa-48ca-aa30-1c49ff7cf79d",
   "metadata": {},
   "source": [
    "### Spatial cell type distribution"
   ]
  },
  {
   "cell_type": "code",
   "execution_count": null,
   "id": "46fb29dd-cf94-4161-a15d-f5dc96d360b1",
   "metadata": {},
   "outputs": [],
   "source": [
    "selected_cell_types = [\"VLMC\", 'L2/3 IT', 'L4/5 IT', 'L5 IT',\"L5 ET\", \"L5/6 NP\" , 'L6 IT',\"L6 CT\",\"L6 IT Car3\"]\n",
    "\n",
    "rainbow_cmap = mpl.colormaps['gist_rainbow']\n",
    "\n",
    "my_pal = {\"VLMC\": rainbow_cmap(0)}\n",
    "my_pal.update({cell_type: rainbow_cmap( 0.3 + 0.7 * (i - 1) / (len(selected_cell_types) - 1)) for i, cell_type in enumerate(selected_cell_types[1:])})\n",
    "my_pal.update({cell_type: 'gray' for cell_type in cell_types if cell_type not in selected_cell_types})"
   ]
  },
  {
   "cell_type": "code",
   "execution_count": null,
   "id": "d0cad3c6-8a46-4b31-bb9b-1da336e9e6c6",
   "metadata": {},
   "outputs": [],
   "source": [
    "with sns.axes_style('white', rc={\n",
    "        'xtick.bottom': True,\n",
    "        'ytick.left': True\n",
    "}), sns.plotting_context('paper',\n",
    "                         rc={\n",
    "                             'axes.titlesize': 8,\n",
    "                             'axes.labelsize': 8,\n",
    "                             'xtick.labelsize': 6,\n",
    "                             'ytick.labelsize': 6,\n",
    "                             'legend.fontsize': 6\n",
    "                         }):\n",
    "    N = len(samples)\n",
    "    fig, axes = plt.subplots(1, N, figsize = (4 * N, 3))\n",
    "    for i, sample in enumerate(samples):\n",
    "        sample_df = data_df.loc[data_df['sample'] == sample]\n",
    "        ax = axes[i] if N > 1 else axes\n",
    "        sns.scatterplot(data = sample_df,\n",
    "                        x = 'x',\n",
    "                        y = 'y',\n",
    "                        hue = 'Cell_Type',\n",
    "                        palette = my_pal,\n",
    "                        hue_order = selected_cell_types + [x for x in cell_types if x not in selected_cell_types],\n",
    "                        edgecolor=None,\n",
    "                        s = 4,\n",
    "                        ax=ax)\n",
    "        ax.set_xticks([])\n",
    "        ax.set_yticks([])\n",
    "        ax.set_title(f\"{sample}\")\n",
    "        ax.legend(loc='upper left', bbox_to_anchor=(1,1))\n",
    "\n",
    "\n",
    "    fig.tight_layout()\n",
    "    fig.savefig('spatial_cell_type.png', dpi=300)"
   ]
  },
  {
   "cell_type": "markdown",
   "id": "b349027c-5950-4514-905a-c55fc8c632ea",
   "metadata": {},
   "source": [
    "![spatial cell type distribution](img/stereo_seq_spatial_cell_type.png)"
   ]
  },
  {
   "cell_type": "markdown",
   "id": "906aa59e-c84c-4cd0-ad7b-a19df3283e62",
   "metadata": {},
   "source": [
    "### Cell-level NT score spatial distribution"
   ]
  },
  {
   "cell_type": "code",
   "execution_count": null,
   "id": "72c7145f-7d82-4e5a-9431-6aa5b3883bd2",
   "metadata": {},
   "outputs": [],
   "source": [
    "N = len(samples)\n",
    "fig, axes = plt.subplots(1, N, figsize = (3.5 * N, 3))\n",
    "for i, sample in enumerate(samples):\n",
    "    sample_df = data_df.loc[data_df['sample'] == sample]\n",
    "    ax = axes[i] if N > 1 else axes\n",
    "    scatter = ax.scatter(sample_df['x'], sample_df['y'], c=1 - sample_df['Cell_NTScore'], cmap='rainbow', vmin=0, vmax=1, s=1) # substitute with following line if you don't need change the direction of NT score\n",
    "    # scatter = ax.scatter(sample_df['x'], sample_df['y'], c=sample_df['Cell_NTScore'], cmap='rainbow', vmin=0, vmax=1, s=1)\n",
    "    ax.set_xticks([])\n",
    "    ax.set_yticks([])\n",
    "    plt.colorbar(scatter)\n",
    "    ax.set_title(f\"{sample} cell-level NT score\")\n",
    "\n",
    "\n",
    "fig.tight_layout()\n",
    "fig.savefig('cell_level_NT_score.png', dpi=300)"
   ]
  },
  {
   "cell_type": "markdown",
   "id": "e3058604-f2a8-4714-8f06-8e0f82f0a99e",
   "metadata": {
    "execution": {
     "iopub.execute_input": "2024-04-22T19:58:52.942289Z",
     "iopub.status.busy": "2024-04-22T19:58:52.936416Z",
     "iopub.status.idle": "2024-04-22T19:58:53.088103Z",
     "shell.execute_reply": "2024-04-22T19:58:53.086719Z",
     "shell.execute_reply.started": "2024-04-22T19:58:52.942194Z"
    }
   },
   "source": [
    "![cell-level NT score](img/stereo_seq_cell_level_NT_score.png)"
   ]
  },
  {
   "cell_type": "code",
   "execution_count": null,
   "id": "89e1369f-e192-4e71-b790-7792ffb6bfbb",
   "metadata": {},
   "outputs": [],
   "source": []
  }
 ],
 "metadata": {
  "kernelspec": {
   "display_name": "Python 3.11 (ONTraC)",
   "language": "python",
   "name": "ontrac"
  },
  "language_info": {
   "codemirror_mode": {
    "name": "ipython",
    "version": 3
   },
   "file_extension": ".py",
   "mimetype": "text/x-python",
   "name": "python",
   "nbconvert_exporter": "python",
   "pygments_lexer": "ipython3",
   "version": "3.11.8"
  }
 },
 "nbformat": 4,
 "nbformat_minor": 5
}
