{
 "cells": [
  {
   "cell_type": "markdown",
   "id": "f8030a1c-ebf1-4166-b033-c05061f0026a",
   "metadata": {},
   "source": [
    "# Running ONTraC on simulated dataset"
   ]
  },
  {
   "cell_type": "markdown",
   "id": "cbfce521-3ad6-4f5f-a5ee-bbf2296cbe08",
   "metadata": {
    "jp-MarkdownHeadingCollapsed": true
   },
   "source": [
    "## Notes"
   ]
  },
  {
   "cell_type": "markdown",
   "id": "c551fb67-763a-4996-9a32-dc0f95724eb4",
   "metadata": {},
   "source": [
    "This notebook will show you the process of running ONTraC on simulation data.\n",
    "\n",
    "We assume that you have installed ONTraC according to the [installation tutorial](../../tutorials/installation.md) and open this notebook using installed Python kernel (Python 3.11 (ONTraC))."
   ]
  },
  {
   "cell_type": "markdown",
   "id": "8b5185a6-5eed-43e7-bb48-ced2d871e50f",
   "metadata": {},
   "source": [
    "## Running ONTraC on simulated data"
   ]
  },
  {
   "cell_type": "markdown",
   "id": "7ce79cbc-ab5a-4321-ad5d-27fc257d6e3d",
   "metadata": {},
   "source": [
    "If your default shell is not Bash, please adjust this code.\n",
    "\n",
    "ONTraC will run on CPU if CUDA is not available.\n"
   ]
  },
  {
   "cell_type": "code",
   "execution_count": null,
   "id": "0f46aca5-0a1f-4cf5-9ed4-7f2c7258c5e0",
   "metadata": {},
   "outputs": [],
   "source": [
    "%%bash\n",
    "\n",
    "source ~/.bash_profile\n",
    "conda activate ONTraC\n",
    "ONTraC -d simulated_dataset.csv --preprocessing-dir simulated_preprocessing_dir --GNN-dir simulated_GNN --NTScore-dir simulated_NTScore \\\n",
    "       --device cuda --epochs 1000 --batch-size 5 -s 42 --patience 100 --min-delta 0.001 --min-epochs 50 --lr 0.03 --hidden-feats 4 -k 6 \\\n",
    "       --modularity-loss-weight 0.3 --regularization-loss-weight 0.1 --purity-loss-weight 300 --beta 0.03 2>&1 | tee log/simulated.log"
   ]
  },
  {
   "cell_type": "markdown",
   "id": "3cb98c7c-6fe3-4926-9908-fe8211507cdb",
   "metadata": {},
   "source": [
    "## Results visualization"
   ]
  },
  {
   "cell_type": "markdown",
   "id": "c0e224de-6fd8-438c-8bef-3421dbc061bd",
   "metadata": {},
   "source": [
    "Please see [post analysis tutorial](../../tutorials/post_analysis.md) for details."
   ]
  },
  {
   "cell_type": "markdown",
   "id": "7ba1959c-972c-4a4f-a638-fa53ad9cd5bd",
   "metadata": {},
   "source": [
    "### Install required packages"
   ]
  },
  {
   "cell_type": "markdown",
   "id": "9cbcaedc-1c06-45f0-b11d-2f67d7f82684",
   "metadata": {},
   "source": [
    "If you default sh is not bash, please adjust this code\n"
   ]
  },
  {
   "cell_type": "code",
   "execution_count": null,
   "id": "f699d369-3169-410a-b2a1-ed57fa8fb6ab",
   "metadata": {},
   "outputs": [],
   "source": [
    "%%bash\n",
    "\n",
    "source ~/.bash_profile\n",
    "conda activate ONTraC\n",
    "\n",
    "pip install matplotlib seaborn"
   ]
  },
  {
   "cell_type": "markdown",
   "id": "e75e4aeb-4deb-4586-8f59-f5e88c881dca",
   "metadata": {},
   "source": [
    "### Loading results"
   ]
  },
  {
   "cell_type": "code",
   "execution_count": 1,
   "id": "bf8966c1-011d-491b-a9cb-c7918b97ba92",
   "metadata": {
    "execution": {
     "iopub.execute_input": "2024-04-22T19:36:01.273703Z",
     "iopub.status.busy": "2024-04-22T19:36:01.272168Z",
     "iopub.status.idle": "2024-04-22T19:36:03.055129Z",
     "shell.execute_reply": "2024-04-22T19:36:03.054778Z",
     "shell.execute_reply.started": "2024-04-22T19:36:01.273627Z"
    }
   },
   "outputs": [],
   "source": [
    "from optparse import Values\n",
    "from typing import List, Tuple\n",
    "\n",
    "import numpy as np\n",
    "import pandas as pd\n",
    "\n",
    "from ONTraC.utils import read_yaml_file, get_rel_params\n",
    "\n",
    "\n",
    "def load_data(options: Values) -> pd.DataFrame:\n",
    "    \"\"\"\n",
    "    load data after ONTraC processing\n",
    "    :param options, Values. dataset, preprocessing_dir and NTScore_dif needed.\n",
    "    :return data_df, pd.DataFrame\n",
    "    \"\"\"\n",
    "    data_df = pd.DataFrame()\n",
    "    params = read_yaml_file(f'{options.preprocessing_dir}/samples.yaml')\n",
    "    rel_params = get_rel_params(options, params)\n",
    "    cell_type_code_df = pd.read_csv(f'{options.preprocessing_dir}/cell_type_code.csv', index_col=0)\n",
    "    for sample in rel_params['Data']:\n",
    "        NTScore_df = pd.read_csv(f'{options.NTScore_dif}/{sample[\"Name\"]}_NTScore.csv.gz', index_col=0)\n",
    "        cell_type_composition_df = pd.read_csv(sample['Features'], header=None)\n",
    "        cell_type_composition_df.columns = cell_type_code_df.loc[np.arange(cell_type_composition_df.shape[1]), 'Cell_Type'].tolist()\n",
    "        sample_df = pd.concat([NTScore_df.reset_index(drop=True), cell_type_composition_df], axis=1)\n",
    "        sample_df.index = NTScore_df.index\n",
    "        sample_df['sample'] = [sample[\"Name\"]] * sample_df.shape[0]\n",
    "        data_df = pd.concat([data_df, sample_df])\n",
    "    \n",
    "    raw_df = pd.read_csv(options.dataset, index_col=0)\n",
    "    data_df = data_df.join(raw_df[['Cell_Type']])\n",
    "    return data_df\n",
    "\n"
   ]
  },
  {
   "cell_type": "code",
   "execution_count": null,
   "id": "9552f3a3-b826-4447-8451-e59987ec643d",
   "metadata": {},
   "outputs": [],
   "source": [
    "options = Values()\n",
    "options.dataset = 'simulated_dataset.csv'\n",
    "options.preprocessing_dir = 'simulated_preprocessing_dir'\n",
    "options.NTScore_dif = 'simulated_NTScore'\n",
    "\n",
    "data_df = load_data(options = options)\n",
    "samples = data_df['sample'].unique().tolist()\n",
    "cell_types = data_df['Cell_Type'].unique().tolist()"
   ]
  },
  {
   "cell_type": "markdown",
   "id": "362019a2-a46b-4717-a5f1-b186de76b894",
   "metadata": {},
   "source": [
    "### Plotting prepare"
   ]
  },
  {
   "cell_type": "code",
   "execution_count": 2,
   "id": "508bd808-fc5c-40f7-9040-43b4cdd333a8",
   "metadata": {
    "execution": {
     "iopub.execute_input": "2024-04-22T19:36:56.942346Z",
     "iopub.status.busy": "2024-04-22T19:36:56.941852Z",
     "iopub.status.idle": "2024-04-22T19:36:58.582968Z",
     "shell.execute_reply": "2024-04-22T19:36:58.582549Z",
     "shell.execute_reply.started": "2024-04-22T19:36:56.942316Z"
    }
   },
   "outputs": [],
   "source": [
    "import matplotlib as mpl\n",
    "import matplotlib.pyplot as plt\n",
    "mpl.rcParams['pdf.fonttype'] = 42\n",
    "mpl.rcParams['ps.fonttype'] = 42\n",
    "mpl.rcParams['font.sans-serif'] = 'Arial'\n",
    "import seaborn as sns"
   ]
  },
  {
   "cell_type": "markdown",
   "id": "0b60a620-97a1-45be-80da-70ca906937e3",
   "metadata": {},
   "source": [
    "### Spatial cell type distribution"
   ]
  },
  {
   "cell_type": "code",
   "execution_count": null,
   "id": "29343c6c-1749-4dae-a7b4-b3c15536e30e",
   "metadata": {},
   "outputs": [],
   "source": [
    "cell_type_pal = {'A': '#7CAE00',\n",
    "                 'B': '#00BC5A',\n",
    "                 'C': '#00C0B3',\n",
    "                 'D': '#00B4F0',\n",
    "                 'E': '#8E92FF',\n",
    "                 'F': '#EA6AF1',\n",
    "                 'G': '#FF64B0',\n",
    "                 'H': '#C42F5D',\n",
    "                 'I': '#A45900',\n",
    "                 'J': '#6A7300'}\n",
    "\n",
    "N = len(samples)\n",
    "fig, axes = plt.subplots(1, N, figsize = (4 * N, 3))\n",
    "for i, sample in enumerate(samples):\n",
    "    sample_df = data_df.loc[data_df['sample'] == sample]\n",
    "    ax = axes[i] if N > 1 else axes\n",
    "    sns.scatterplot(data = sample_df,\n",
    "                x = 'x',\n",
    "                y = 'y',\n",
    "                hue = 'Cell_Type',\n",
    "                palette=cell_type_pal,\n",
    "                edgecolor=None,\n",
    "                s = 8,\n",
    "                ax = ax)\n",
    "    ax.set_xticks([])\n",
    "    ax.set_yticks([])\n",
    "    ax.set_title(f\"{sample}\")\n",
    "    ax.legend(loc='upper left', bbox_to_anchor=(1,1))\n",
    "\n",
    "\n",
    "fig.tight_layout()\n",
    "fig.savefig('spatial_cell_type.png', dpi=300)"
   ]
  },
  {
   "cell_type": "markdown",
   "id": "c5b6dd98-bf67-40a3-9bd2-4cef51999a1f",
   "metadata": {},
   "source": [
    "![spatial cell type distribution](img/simulation_spatial_cell_type.png)"
   ]
  },
  {
   "cell_type": "markdown",
   "id": "694e99c1-903f-45e6-88d8-f779d9aae0f9",
   "metadata": {},
   "source": [
    "### Cell-level NT score spatial distribution"
   ]
  },
  {
   "cell_type": "code",
   "execution_count": null,
   "id": "bc33e505-0dc9-49fd-ba04-8827b349a501",
   "metadata": {},
   "outputs": [],
   "source": [
    "N = len(samples)\n",
    "fig, axes = plt.subplots(1, N, figsize = (3.5 * N, 3))\n",
    "for i, sample in enumerate(samples):\n",
    "    sample_df = data_df.loc[data_df['sample'] == sample]\n",
    "    ax = axes[i] if N > 1 else axes\n",
    "    scatter = ax.scatter(sample_df['x'], sample_df['y'], c=1 - sample_df['Cell_NTScore'], cmap='rainbow', vmin=0, vmax=1, s=1) # substitute with following line if you don't need change the direction of NT score\n",
    "    # scatter = ax.scatter(sample_df['x'], sample_df['y'], c=sample_df['Cell_NTScore'], cmap='rainbow', vmin=0, vmax=1, s=1)\n",
    "    ax.set_xticks([])\n",
    "    ax.set_yticks([])\n",
    "    plt.colorbar(scatter)\n",
    "    ax.set_title(f\"{sample} cell-level NT score\")\n",
    "\n",
    "\n",
    "fig.tight_layout()\n",
    "fig.savefig('cell_level_NT_score.png', dpi=300)"
   ]
  },
  {
   "cell_type": "markdown",
   "id": "6d1d488d-5bb6-4adc-aa6b-acdfcb1b991f",
   "metadata": {
    "execution": {
     "iopub.execute_input": "2024-04-22T19:58:52.942289Z",
     "iopub.status.busy": "2024-04-22T19:58:52.936416Z",
     "iopub.status.idle": "2024-04-22T19:58:53.088103Z",
     "shell.execute_reply": "2024-04-22T19:58:53.086719Z",
     "shell.execute_reply.started": "2024-04-22T19:58:52.942194Z"
    }
   },
   "source": [
    "![cell-level NT score](img/simulation_cell_level_NT_score.png)"
   ]
  },
  {
   "cell_type": "code",
   "execution_count": null,
   "id": "8335f990-8261-42b4-8c54-746e36f958cf",
   "metadata": {},
   "outputs": [],
   "source": []
  }
 ],
 "metadata": {
  "kernelspec": {
   "display_name": "Python 3.11 (ONTraC)",
   "language": "python",
   "name": "ontrac"
  },
  "language_info": {
   "codemirror_mode": {
    "name": "ipython",
    "version": 3
   },
   "file_extension": ".py",
   "mimetype": "text/x-python",
   "name": "python",
   "nbconvert_exporter": "python",
   "pygments_lexer": "ipython3",
   "version": "3.11.8"
  }
 },
 "nbformat": 4,
 "nbformat_minor": 5
}
