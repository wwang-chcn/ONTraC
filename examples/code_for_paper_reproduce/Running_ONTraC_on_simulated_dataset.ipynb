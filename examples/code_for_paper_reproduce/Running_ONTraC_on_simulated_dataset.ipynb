{
 "cells": [
  {
   "cell_type": "markdown",
   "id": "f8030a1c-ebf1-4166-b033-c05061f0026a",
   "metadata": {},
   "source": [
    "# Running ONTraC on simulated dataset"
   ]
  },
  {
   "cell_type": "markdown",
   "id": "cbfce521-3ad6-4f5f-a5ee-bbf2296cbe08",
   "metadata": {
    "jp-MarkdownHeadingCollapsed": true
   },
   "source": [
    "## Notes"
   ]
  },
  {
   "cell_type": "markdown",
   "id": "c551fb67-763a-4996-9a32-dc0f95724eb4",
   "metadata": {},
   "source": [
    "This notebook will show you the process of running ONTraC on simulation data."
   ]
  },
  {
   "cell_type": "markdown",
   "id": "72f90389",
   "metadata": {},
   "source": [
    "# ONTraC installation\n",
    "\n",
    "We assume that you have installed ONTraC based on following instructions and open this notebook using installed Python kernel (Python 3.11 (ONTraC))."
   ]
  },
  {
   "cell_type": "code",
   "execution_count": null,
   "id": "4c483715",
   "metadata": {
    "vscode": {
     "languageId": "shellscript"
    }
   },
   "outputs": [],
   "source": [
    "conda create -n ONTraC python=3.11\n",
    "conda activate ONTraC\n",
    "pip install \"ONTraC[analysis]==1.*\"\n",
    "pip install ipykernel\n",
    "python -m ipykernel install --user --name ONTraC --display-name \"Python 3.11 (ONTraC)\""
   ]
  },
  {
   "cell_type": "markdown",
   "id": "8b5185a6-5eed-43e7-bb48-ced2d871e50f",
   "metadata": {},
   "source": [
    "## Running ONTraC on simulated data"
   ]
  },
  {
   "cell_type": "markdown",
   "id": "7ce79cbc-ab5a-4321-ad5d-27fc257d6e3d",
   "metadata": {},
   "source": [
    "ONTraC will run on CPU if CUDA is not available.\n"
   ]
  },
  {
   "cell_type": "markdown",
   "id": "1ae204df",
   "metadata": {},
   "source": [
    "Download `simulated_dataset_meta_input.csv` and precomputed results from [Zenodo](https://zenodo.org/records/XXXXXX)"
   ]
  },
  {
   "cell_type": "code",
   "execution_count": null,
   "id": "0f46aca5-0a1f-4cf5-9ed4-7f2c7258c5e0",
   "metadata": {},
   "outputs": [],
   "source": [
    "%%bash\n",
    "\n",
    "source ~/.bash_profile\n",
    "conda activate ONTraC\n",
    "ONTraC --meta-input simulated_dataset_meta_input.csv --preprocessing-dir simulated_preprocessing --GNN-dir simulated_GNN --NTScore-dir simulated_NTScore \\\n",
    "       --device cuda --epochs 1000 --batch-size 5 -s 42 --patience 100 --min-delta 0.001 --min-epochs 50 --lr 0.03 --hidden-feats 4 -k 6 \\\n",
    "       --modularity-loss-weight 1 --purity-loss-weight 30 --regularization-loss-weight 0.3 --beta 0.3 --equal-space 2>&1 | tee simulated.log"
   ]
  },
  {
   "cell_type": "markdown",
   "id": "3cb98c7c-6fe3-4926-9908-fe8211507cdb",
   "metadata": {},
   "source": [
    "## Results visualization"
   ]
  },
  {
   "cell_type": "markdown",
   "id": "c0e224de-6fd8-438c-8bef-3421dbc061bd",
   "metadata": {},
   "source": [
    "We only show two simple examples here, please see [post analysis tutorial](../../tutorials/post_analysis.md) for details and more figures."
   ]
  },
  {
   "cell_type": "markdown",
   "id": "362019a2-a46b-4717-a5f1-b186de76b894",
   "metadata": {},
   "source": [
    "### Plotting prepare"
   ]
  },
  {
   "cell_type": "code",
   "execution_count": null,
   "id": "bd63b4ef",
   "metadata": {},
   "outputs": [],
   "source": [
    "import numpy as np\n",
    "import pandas as pd\n",
    "\n",
    "import matplotlib as mpl\n",
    "\n",
    "mpl.rcParams['pdf.fonttype'] = 42\n",
    "mpl.rcParams['ps.fonttype'] = 42\n",
    "mpl.rcParams['font.family'] = 'Arial'\n",
    "import matplotlib.pyplot as plt\n",
    "import seaborn as sns\n",
    "\n",
    "from ONTraC.analysis.data import AnaData"
   ]
  },
  {
   "cell_type": "markdown",
   "id": "e75e4aeb-4deb-4586-8f59-f5e88c881dca",
   "metadata": {},
   "source": [
    "### Loading ONTraC results"
   ]
  },
  {
   "cell_type": "code",
   "execution_count": 1,
   "id": "bf8966c1-011d-491b-a9cb-c7918b97ba92",
   "metadata": {
    "execution": {
     "iopub.execute_input": "2024-04-22T19:36:01.273703Z",
     "iopub.status.busy": "2024-04-22T19:36:01.272168Z",
     "iopub.status.idle": "2024-04-22T19:36:03.055129Z",
     "shell.execute_reply": "2024-04-22T19:36:03.054778Z",
     "shell.execute_reply.started": "2024-04-22T19:36:01.273627Z"
    }
   },
   "outputs": [],
   "source": [
    "from optparse import Values\n",
    "\n",
    "options = Values()\n",
    "options.preprocessing_dir = 'train_backup/V2/V1_reproduce_simulated_dataset/simulated_preprocessing/'\n",
    "options.GNN_dir = 'train_backup/V2/V1_reproduce_simulated_dataset/simulated_GNN/'\n",
    "options.NTScore_dir = 'train_backup/V2/V1_reproduce_simulated_dataset/simulated_NTScore/'\n",
    "options.log = 'train_backup/V2/V1_reproduce_simulated_dataset/simulated.log'\n",
    "options.reverse = True  # Set it to False if you don't want reverse NT score\n",
    "options.embedding_adjust = False\n",
    "\n",
    "ana_data = AnaData(options)"
   ]
  },
  {
   "cell_type": "markdown",
   "id": "0b60a620-97a1-45be-80da-70ca906937e3",
   "metadata": {},
   "source": [
    "### Spatial cell type distribution"
   ]
  },
  {
   "cell_type": "code",
   "execution_count": null,
   "id": "29343c6c-1749-4dae-a7b4-b3c15536e30e",
   "metadata": {},
   "outputs": [],
   "source": [
    "cell_type_pal = {'A': '#7CAE00',\n",
    "                 'B': '#00BC5A',\n",
    "                 'C': '#00C0B3',\n",
    "                 'D': '#00B4F0',\n",
    "                 'E': '#8E92FF',\n",
    "                 'F': '#EA6AF1',\n",
    "                 'G': '#FF64B0',\n",
    "                 'H': '#C42F5D',\n",
    "                 'I': '#A45900',\n",
    "                 'J': '#6A7300'}\n",
    "\n",
    "fig, ax = plt.subplots(1, 1, figsize = (4, 3))\n",
    "sns.scatterplot(data = ana_data.meta_data,\n",
    "            x = 'x',\n",
    "            y = 'y',\n",
    "            hue = 'Cell_Type',\n",
    "            palette=cell_type_pal,\n",
    "            edgecolor=None,\n",
    "            s = 8,\n",
    "            ax = ax)\n",
    "# ax.set_aspect('equal', 'box')  # uncomment this line if you want set the x and y axis with same scaling\n",
    "# ax.set_xticks([])  # uncomment this line if you don't want to show x coordinates\n",
    "# ax.set_yticks([]) # uncomment this line if you don't want to show y coordinates\n",
    "ax.legend(loc='upper left', bbox_to_anchor=(1,1))\n",
    "\n",
    "\n",
    "fig.tight_layout()\n",
    "fig.savefig('simulation_spatial_cell_type.png', dpi=300)"
   ]
  },
  {
   "cell_type": "markdown",
   "id": "c5b6dd98-bf67-40a3-9bd2-4cef51999a1f",
   "metadata": {},
   "source": [
    "![spatial cell type distribution](img/simulation_spatial_cell_type.png)"
   ]
  },
  {
   "cell_type": "markdown",
   "id": "694e99c1-903f-45e6-88d8-f779d9aae0f9",
   "metadata": {},
   "source": [
    "### Cell-level NT score spatial distribution"
   ]
  },
  {
   "cell_type": "code",
   "execution_count": null,
   "id": "bc33e505-0dc9-49fd-ba04-8827b349a501",
   "metadata": {},
   "outputs": [],
   "source": [
    "fig, ax = plt.subplots(1, 1, figsize = (3.5, 3))\n",
    "NT_score = ana_data.NT_score['Cell_NTScore'] if not ana_data.options.reverse else 1 - ana_data.NT_score['Cell_NTScore']\n",
    "scatter = ax.scatter(x=ana_data.NT_score['x'],\n",
    "                     y=ana_data.NT_score['y'],\n",
    "                     c=NT_score,\n",
    "                     cmap='rainbow',\n",
    "                     vmin=0,\n",
    "                     vmax=1,\n",
    "                     s=1)\n",
    "# ax.set_aspect('equal', 'box')  # uncomment this line if you want set the x and y axis with same scaling\n",
    "# ax.set_xticks([])  # uncomment this line if you don't want to show x coordinates\n",
    "# ax.set_yticks([]) # uncomment this line if you don't want to show y coordinates\n",
    "plt.colorbar(scatter)\n",
    "ax.set_title(f\"Cell-level NT score\")\n",
    "\n",
    "\n",
    "fig.tight_layout()\n",
    "fig.savefig('simulation_cell_level_NT_score.png', dpi=300)"
   ]
  },
  {
   "cell_type": "markdown",
   "id": "6d1d488d-5bb6-4adc-aa6b-acdfcb1b991f",
   "metadata": {
    "execution": {
     "iopub.execute_input": "2024-04-22T19:58:52.942289Z",
     "iopub.status.busy": "2024-04-22T19:58:52.936416Z",
     "iopub.status.idle": "2024-04-22T19:58:53.088103Z",
     "shell.execute_reply": "2024-04-22T19:58:53.086719Z",
     "shell.execute_reply.started": "2024-04-22T19:58:52.942194Z"
    }
   },
   "source": [
    "![cell-level NT score](img/simulation_cell_level_NT_score.png)"
   ]
  }
 ],
 "metadata": {
  "kernelspec": {
   "display_name": "Python 3.11 (ONTraC)",
   "language": "python",
   "name": "ontrac"
  },
  "language_info": {
   "codemirror_mode": {
    "name": "ipython",
    "version": 3
   },
   "file_extension": ".py",
   "mimetype": "text/x-python",
   "name": "python",
   "nbconvert_exporter": "python",
   "pygments_lexer": "ipython3",
   "version": "3.11.8"
  }
 },
 "nbformat": 4,
 "nbformat_minor": 5
}
